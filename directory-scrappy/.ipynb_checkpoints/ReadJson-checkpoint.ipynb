{
 "cells": [
  {
   "cell_type": "markdown",
   "metadata": {},
   "source": [
    "# Acceso a JSON file\n",
    "\n",
    "\n",
    "## Caso 1: Cliente\n",
    "\n",
    "### Carga de archivo desde disco"
   ]
  },
  {
   "cell_type": "code",
   "execution_count": 1,
   "metadata": {},
   "outputs": [
    {
     "data": {
      "text/plain": [
       "{'cliente': {'clienteId': 'AAA',\n",
       "  'anios': [{'anio': '2019',\n",
       "    'eurFacturados': '7500',\n",
       "    'tipoCliente': 'plata',\n",
       "    'trabajosFinalizados': [{'dia': '1',\n",
       "      'mes': 'enero',\n",
       "      'mecanicoID': '123',\n",
       "      'valorTrabajo': '50',\n",
       "      'tipoTrabajo': 'chapa',\n",
       "      'comercialId': 'com1',\n",
       "      'automovil': {'modelo': 'Getz',\n",
       "       'anio': '2011',\n",
       "       'tipoCombustible': 'gasolina'}}]}]}}"
      ]
     },
     "execution_count": 1,
     "metadata": {},
     "output_type": "execute_result"
    }
   ],
   "source": [
    "import json\n",
    "\n",
    "file = open('data/json1/Cliente.json',)\n",
    "client = json.load(file)\n",
    "\n",
    "client"
   ]
  },
  {
   "cell_type": "code",
   "execution_count": 2,
   "metadata": {},
   "outputs": [
    {
     "data": {
      "text/plain": [
       "dict"
      ]
     },
     "execution_count": 2,
     "metadata": {},
     "output_type": "execute_result"
    }
   ],
   "source": [
    "type(client)  # se carga como un objeto de tipo diccionario"
   ]
  },
  {
   "cell_type": "code",
   "execution_count": 3,
   "metadata": {},
   "outputs": [
    {
     "name": "stdout",
     "output_type": "stream",
     "text": [
      "dict_keys(['cliente'])\n",
      "\n",
      " {'clienteId': 'AAA', 'anios': [{'anio': '2019', 'eurFacturados': '7500', 'tipoCliente': 'plata', 'trabajosFinalizados': [{'dia': '1', 'mes': 'enero', 'mecanicoID': '123', 'valorTrabajo': '50', 'tipoTrabajo': 'chapa', 'comercialId': 'com1', 'automovil': {'modelo': 'Getz', 'anio': '2011', 'tipoCombustible': 'gasolina'}}]}]}\n"
     ]
    }
   ],
   "source": [
    "print(client.keys())  # estructura externa del diccionario\n",
    "\n",
    "print('\\n', client['cliente'])"
   ]
  },
  {
   "cell_type": "markdown",
   "metadata": {},
   "source": [
    "### Acceso a elementos específicos"
   ]
  },
  {
   "cell_type": "code",
   "execution_count": 4,
   "metadata": {},
   "outputs": [
    {
     "name": "stdout",
     "output_type": "stream",
     "text": [
      "AAA\n"
     ]
    }
   ],
   "source": [
    "# Acceder al Id del cliente:\n",
    "\n",
    "print(client['cliente']['clienteId'])"
   ]
  },
  {
   "cell_type": "code",
   "execution_count": 5,
   "metadata": {},
   "outputs": [
    {
     "name": "stdout",
     "output_type": "stream",
     "text": [
      "7500\n"
     ]
    },
    {
     "data": {
      "text/plain": [
       "['7500']"
      ]
     },
     "execution_count": 5,
     "metadata": {},
     "output_type": "execute_result"
    }
   ],
   "source": [
    "# Acceder a la cantidad de euros facturados:\n",
    "\n",
    "for anio in client['cliente']['anios']:  # forma 1\n",
    "    print(anio['eurFacturados'])\n",
    "    \n",
    "euros = [anio['eurFacturados'] for anio in client['cliente']['anios']]  # forma 2, guardando en una lista\n",
    "\n",
    "euros"
   ]
  },
  {
   "cell_type": "markdown",
   "metadata": {},
   "source": [
    "## Caso 2: Listado de clientes"
   ]
  },
  {
   "cell_type": "code",
   "execution_count": 6,
   "metadata": {},
   "outputs": [
    {
     "data": {
      "text/plain": [
       "{'clientes': [{'clienteId': 'AAA',\n",
       "   'anios': [{'anio': '2019',\n",
       "     'eurFacturados': '7500',\n",
       "     'tipoCliente': 'plata',\n",
       "     'trabajosFinalizados': [{'dia': '1',\n",
       "       'mes': 'enero',\n",
       "       'mecanicoID': '123',\n",
       "       'valorTrabajo': '50',\n",
       "       'tipoTrabajo': 'chapa',\n",
       "       'comercialId': 'com1',\n",
       "       'automovil': {'modelo': 'Getz',\n",
       "        'anio': '2011',\n",
       "        'tipoCombustible': 'gasolina'}}]}]},\n",
       "  {'clienteId': 'BBB',\n",
       "   'anios': [{'anio': '2018',\n",
       "     'eurFacturados': '16700',\n",
       "     'tipoCliente': 'oro',\n",
       "     'trabajosFinalizados': [{'dia': '5',\n",
       "       'mes': 'enero',\n",
       "       'mecanicoID': '123',\n",
       "       'valorTrabajo': '590',\n",
       "       'tipoTrabajo': 'pintuda',\n",
       "       'comercialId': 'com2',\n",
       "       'automovil': {'modelo': 'Tucson',\n",
       "        'anio': '2013',\n",
       "        'tipoCombustible': 'diesel'}}]},\n",
       "    {'anio': '2019',\n",
       "     'eurFacturados': '1600',\n",
       "     'tipoCliente': 'oro',\n",
       "     'trabajosFinalizados': [{'dia': '12',\n",
       "       'mes': 'agosto',\n",
       "       'mecanicoID': '124',\n",
       "       'valorTrabajo': '150',\n",
       "       'tipoTrabajo': 'frenos',\n",
       "       'comercialId': 'com2',\n",
       "       'automovil': {'modelo': 'Tucson',\n",
       "        'anio': '2013',\n",
       "        'tipoCombustible': 'diesel'}}]}]}]}"
      ]
     },
     "execution_count": 6,
     "metadata": {},
     "output_type": "execute_result"
    }
   ],
   "source": [
    "file = open('data/json1/Clientes.json',)\n",
    "clients = json.load(file)\n",
    "\n",
    "clients"
   ]
  },
  {
   "cell_type": "code",
   "execution_count": 7,
   "metadata": {},
   "outputs": [
    {
     "data": {
      "text/plain": [
       "dict_keys(['clientes'])"
      ]
     },
     "execution_count": 7,
     "metadata": {},
     "output_type": "execute_result"
    }
   ],
   "source": [
    "clients.keys()"
   ]
  },
  {
   "cell_type": "code",
   "execution_count": 8,
   "metadata": {
    "scrolled": true
   },
   "outputs": [
    {
     "data": {
      "text/plain": [
       "[{'clienteId': 'AAA',\n",
       "  'anios': [{'anio': '2019',\n",
       "    'eurFacturados': '7500',\n",
       "    'tipoCliente': 'plata',\n",
       "    'trabajosFinalizados': [{'dia': '1',\n",
       "      'mes': 'enero',\n",
       "      'mecanicoID': '123',\n",
       "      'valorTrabajo': '50',\n",
       "      'tipoTrabajo': 'chapa',\n",
       "      'comercialId': 'com1',\n",
       "      'automovil': {'modelo': 'Getz',\n",
       "       'anio': '2011',\n",
       "       'tipoCombustible': 'gasolina'}}]}]},\n",
       " {'clienteId': 'BBB',\n",
       "  'anios': [{'anio': '2018',\n",
       "    'eurFacturados': '16700',\n",
       "    'tipoCliente': 'oro',\n",
       "    'trabajosFinalizados': [{'dia': '5',\n",
       "      'mes': 'enero',\n",
       "      'mecanicoID': '123',\n",
       "      'valorTrabajo': '590',\n",
       "      'tipoTrabajo': 'pintuda',\n",
       "      'comercialId': 'com2',\n",
       "      'automovil': {'modelo': 'Tucson',\n",
       "       'anio': '2013',\n",
       "       'tipoCombustible': 'diesel'}}]},\n",
       "   {'anio': '2019',\n",
       "    'eurFacturados': '1600',\n",
       "    'tipoCliente': 'oro',\n",
       "    'trabajosFinalizados': [{'dia': '12',\n",
       "      'mes': 'agosto',\n",
       "      'mecanicoID': '124',\n",
       "      'valorTrabajo': '150',\n",
       "      'tipoTrabajo': 'frenos',\n",
       "      'comercialId': 'com2',\n",
       "      'automovil': {'modelo': 'Tucson',\n",
       "       'anio': '2013',\n",
       "       'tipoCombustible': 'diesel'}}]}]}]"
      ]
     },
     "execution_count": 8,
     "metadata": {},
     "output_type": "execute_result"
    }
   ],
   "source": [
    "clients['clientes']"
   ]
  },
  {
   "cell_type": "code",
   "execution_count": 9,
   "metadata": {},
   "outputs": [
    {
     "name": "stdout",
     "output_type": "stream",
     "text": [
      "['AAA', 'BBB']\n"
     ]
    }
   ],
   "source": [
    "# Acceder a los Ids del clientes:\n",
    "\n",
    "print([c['clienteId'] for c in clients['clientes']])"
   ]
  },
  {
   "cell_type": "code",
   "execution_count": 10,
   "metadata": {},
   "outputs": [
    {
     "data": {
      "text/plain": [
       "{'clientes': [{'clienteId': 'AAA',\n",
       "   'anios': [{'anio': '2019',\n",
       "     'eurFacturados': '7500',\n",
       "     'tipoCliente': 'plata',\n",
       "     'trabajosFinalizados': [{'dia': '1',\n",
       "       'mes': 'enero',\n",
       "       'mecanicoID': '123',\n",
       "       'valorTrabajo': '50',\n",
       "       'tipoTrabajo': 'chapa',\n",
       "       'comercialId': 'com1',\n",
       "       'automovil': {'modelo': 'Getz',\n",
       "        'anio': '2011',\n",
       "        'tipoCombustible': 'gasolina'}}]}]},\n",
       "  {'clienteId': 'BBB',\n",
       "   'anios': [{'anio': '2018',\n",
       "     'eurFacturados': '16700',\n",
       "     'tipoCliente': 'oro',\n",
       "     'trabajosFinalizados': [{'dia': '5',\n",
       "       'mes': 'enero',\n",
       "       'mecanicoID': '123',\n",
       "       'valorTrabajo': '590',\n",
       "       'tipoTrabajo': 'pintuda',\n",
       "       'comercialId': 'com2',\n",
       "       'automovil': {'modelo': 'Tucson',\n",
       "        'anio': '2013',\n",
       "        'tipoCombustible': 'diesel'}}]},\n",
       "    {'anio': '2019',\n",
       "     'eurFacturados': '1600',\n",
       "     'tipoCliente': 'oro',\n",
       "     'trabajosFinalizados': [{'dia': '12',\n",
       "       'mes': 'agosto',\n",
       "       'mecanicoID': '124',\n",
       "       'valorTrabajo': '150',\n",
       "       'tipoTrabajo': 'frenos',\n",
       "       'comercialId': 'com2',\n",
       "       'automovil': {'modelo': 'Tucson',\n",
       "        'anio': '2013',\n",
       "        'tipoCombustible': 'diesel'}}]}]}]}"
      ]
     },
     "execution_count": 10,
     "metadata": {},
     "output_type": "execute_result"
    }
   ],
   "source": [
    "clients"
   ]
  },
  {
   "cell_type": "code",
   "execution_count": 11,
   "metadata": {},
   "outputs": [
    {
     "name": "stdout",
     "output_type": "stream",
     "text": [
      "7500\n",
      "[7500, 16700, 1600]\n"
     ]
    },
    {
     "data": {
      "text/plain": [
       "25800"
      ]
     },
     "execution_count": 11,
     "metadata": {},
     "output_type": "execute_result"
    }
   ],
   "source": [
    "# Acceder a la cantidad de euros facturados:\n",
    "for anio in client['cliente']['anios']:  # forma 1\n",
    "    print(anio['eurFacturados'])\n",
    "    \n",
    "euros = [anio['eurFacturados'] for anio in client['cliente']['anios']]  # forma 2, guardando en una lista\n",
    "\n",
    "euros\n",
    "\n",
    "lista = []\n",
    "\n",
    "for anio in clients['clientes']:  # forma 1\n",
    "    # print(anio['anios'][])\n",
    "    for i in anio['anios']:\n",
    "        lista.append(int(i['eurFacturados']))\n",
    "    \n",
    "print(lista)\n",
    "sum(lista)\n",
    "    #print(list(map(lambda x: int(x), lista)))\n",
    "\n",
    "    # list(map(lambda x: x['eurFacturados'], clients['clienteId']['anios']))\n",
    "#f = list(map(lambda x: [y[0:10] for y in x], clients['clientes']))\n",
    "\n"
   ]
  },
  {
   "cell_type": "code",
   "execution_count": 12,
   "metadata": {},
   "outputs": [
    {
     "name": "stdout",
     "output_type": "stream",
     "text": [
      "[{'clienteId': 'AAA', 'anios': [{'anio': '2019', 'eurFacturados': '7500', 'tipoCliente': 'plata', 'trabajosFinalizados': [{'dia': '1', 'mes': 'enero', 'mecanicoID': '123', 'valorTrabajo': '50', 'tipoTrabajo': 'chapa', 'comercialId': 'com1', 'automovil': {'modelo': 'Getz', 'anio': '2011', 'tipoCombustible': 'gasolina'}}]}]}, {'clienteId': 'BBB', 'anios': [{'anio': '2018', 'eurFacturados': '16700', 'tipoCliente': 'oro', 'trabajosFinalizados': [{'dia': '5', 'mes': 'enero', 'mecanicoID': '123', 'valorTrabajo': '590', 'tipoTrabajo': 'pintuda', 'comercialId': 'com2', 'automovil': {'modelo': 'Tucson', 'anio': '2013', 'tipoCombustible': 'diesel'}}]}, {'anio': '2019', 'eurFacturados': '1600', 'tipoCliente': 'oro', 'trabajosFinalizados': [{'dia': '12', 'mes': 'agosto', 'mecanicoID': '124', 'valorTrabajo': '150', 'tipoTrabajo': 'frenos', 'comercialId': 'com2', 'automovil': {'modelo': 'Tucson', 'anio': '2013', 'tipoCombustible': 'diesel'}}]}]}]\n",
      "\n",
      "\n",
      "[[{'anio': '2019', 'eurFacturados': '7500', 'tipoCliente': 'plata', 'trabajosFinalizados': [{'dia': '1', 'mes': 'enero', 'mecanicoID': '123', 'valorTrabajo': '50', 'tipoTrabajo': 'chapa', 'comercialId': 'com1', 'automovil': {'modelo': 'Getz', 'anio': '2011', 'tipoCombustible': 'gasolina'}}]}], [{'anio': '2018', 'eurFacturados': '16700', 'tipoCliente': 'oro', 'trabajosFinalizados': [{'dia': '5', 'mes': 'enero', 'mecanicoID': '123', 'valorTrabajo': '590', 'tipoTrabajo': 'pintuda', 'comercialId': 'com2', 'automovil': {'modelo': 'Tucson', 'anio': '2013', 'tipoCombustible': 'diesel'}}]}, {'anio': '2019', 'eurFacturados': '1600', 'tipoCliente': 'oro', 'trabajosFinalizados': [{'dia': '12', 'mes': 'agosto', 'mecanicoID': '124', 'valorTrabajo': '150', 'tipoTrabajo': 'frenos', 'comercialId': 'com2', 'automovil': {'modelo': 'Tucson', 'anio': '2013', 'tipoCombustible': 'diesel'}}]}]]\n",
      "\n"
     ]
    },
    {
     "data": {
      "text/plain": [
       "2"
      ]
     },
     "execution_count": 12,
     "metadata": {},
     "output_type": "execute_result"
    }
   ],
   "source": [
    "#func = map(lambda x: x['anios'], clients['clientes'])\n",
    "func = list(map(lambda x: x, clients['clientes']))\n",
    "print(func)\n",
    "print()\n",
    "print()\n",
    "func2 = list(map(lambda x: x['anios'], func))\n",
    "print(func2)\n",
    "print()\n",
    "len(func2)\n",
    "\n"
   ]
  },
  {
   "cell_type": "code",
   "execution_count": 13,
   "metadata": {},
   "outputs": [
    {
     "name": "stdout",
     "output_type": "stream",
     "text": [
      "{'anio': '2019', 'eurFacturados': '7500', 'tipoCliente': 'plata', 'trabajosFinalizados': [{'dia': '1', 'mes': 'enero', 'mecanicoID': '123', 'valorTrabajo': '50', 'tipoTrabajo': 'chapa', 'comercialId': 'com1', 'automovil': {'modelo': 'Getz', 'anio': '2011', 'tipoCombustible': 'gasolina'}}]}\n",
      "{'anio': '2018', 'eurFacturados': '16700', 'tipoCliente': 'oro', 'trabajosFinalizados': [{'dia': '5', 'mes': 'enero', 'mecanicoID': '123', 'valorTrabajo': '590', 'tipoTrabajo': 'pintuda', 'comercialId': 'com2', 'automovil': {'modelo': 'Tucson', 'anio': '2013', 'tipoCombustible': 'diesel'}}]}\n",
      "{'anio': '2019', 'eurFacturados': '1600', 'tipoCliente': 'oro', 'trabajosFinalizados': [{'dia': '12', 'mes': 'agosto', 'mecanicoID': '124', 'valorTrabajo': '150', 'tipoTrabajo': 'frenos', 'comercialId': 'com2', 'automovil': {'modelo': 'Tucson', 'anio': '2013', 'tipoCombustible': 'diesel'}}]}\n"
     ]
    }
   ],
   "source": [
    "l1 = [c for c in func2]\n",
    "print(func2[0][0])\n",
    "print(func2[1][0])\n",
    "print(func2[1][1])"
   ]
  },
  {
   "cell_type": "code",
   "execution_count": 14,
   "metadata": {},
   "outputs": [
    {
     "data": {
      "text/plain": [
       "[['cli', 'ani'], ['cli', 'ani']]"
      ]
     },
     "execution_count": 14,
     "metadata": {},
     "output_type": "execute_result"
    }
   ],
   "source": [
    "f = list(map(lambda x: [y[0:3] for y in x], clients['clientes']))\n",
    "f\n",
    "\n",
    "\n"
   ]
  },
  {
   "cell_type": "code",
   "execution_count": 15,
   "metadata": {},
   "outputs": [],
   "source": [
    "# Sumar la cantidad de euros factuados. Tanto para la estructura client como clients."
   ]
  }
 ],
 "metadata": {
  "finalized": {
   "timestamp": 1620174163190,
   "trusted": true
  },
  "kernelspec": {
   "display_name": "Python 3 (ipykernel)",
   "language": "python",
   "name": "python3"
  },
  "language_info": {
   "codemirror_mode": {
    "name": "ipython",
    "version": 3
   },
   "file_extension": ".py",
   "mimetype": "text/x-python",
   "name": "python",
   "nbconvert_exporter": "python",
   "pygments_lexer": "ipython3",
   "version": "3.11.1"
  }
 },
 "nbformat": 4,
 "nbformat_minor": 4
}
